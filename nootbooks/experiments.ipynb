{
 "cells": [
  {
   "cell_type": "code",
   "execution_count": 1,
   "metadata": {},
   "outputs": [
    {
     "name": "stdout",
     "output_type": "stream",
     "text": [
      "There are 1 GPU(s) available.\n",
      "We will use the GPU: GeForce RTX 3070\n"
     ]
    }
   ],
   "source": [
    "from policy import *\n",
    "import numpy as np\n",
    "import pandas as pd\n",
    "\n",
    "import torch\n",
    "from torch.utils.data import DataLoader, RandomSampler, SequentialSampler\n",
    "\n",
    "import matplotlib.pyplot as plt\n",
    "\n",
    "if torch.cuda.is_available():    \n",
    "    device = torch.device(\"cuda\")\n",
    "    print('There are %d GPU(s) available.' % torch.cuda.device_count())\n",
    "    print('We will use the GPU:', torch.cuda.get_device_name(0))\n",
    "else:\n",
    "    print('No GPU available, using the CPU instead.')\n",
    "    device = torch.device(\"cpu\")"
   ]
  },
  {
   "cell_type": "code",
   "execution_count": 2,
   "metadata": {},
   "outputs": [],
   "source": [
    "def get_dataloaders(train_dataset, test_dataset, batch_size):\n",
    "    \n",
    "    train_dataloader = DataLoader(train_dataset, sampler=RandomSampler(train_dataset), batch_size=batch_size)\n",
    "    test_dataloader = DataLoader(test_dataset, sampler=SequentialSampler(test_dataset), batch_size=len(test_dataset))\n",
    "    \n",
    "    return train_dataloader, test_dataloader\n",
    "\n",
    "def get_rewards_vector(full_rewards, actions):\n",
    "    actions_one_hot = F.one_hot(actions.long(), num_classes=full_rewards.size()[1]).float()\n",
    "    r = torch.matmul(full_rewards.unsqueeze(1), actions_one_hot.unsqueeze(2)).squeeze()\n",
    "    return r\n",
    "\n",
    "def snips_loss(pi_w, pi_0, r, lamda=None):\n",
    "    return torch.mean((1-r) * pi_w / pi_0) / torch.mean(pi_w / pi_0)\n",
    "\n",
    "def banditnet_loss(pi_w, pi_0, r, lamda):\n",
    "    return torch.mean(((1-r) - lamda) * (pi_w / pi_0))"
   ]
  },
  {
   "cell_type": "code",
   "execution_count": 3,
   "metadata": {},
   "outputs": [],
   "source": [
    "from tqdm.auto import tqdm\n",
    "\n",
    "def train_loop(model, optimizer, train_dataloader, test_dataloader, n_epochs, loss_func, lamda=0.9, model_path='temp'):\n",
    "    \n",
    "    train_losses = []\n",
    "    test_values = []\n",
    "    test_accuracies = []\n",
    "    best_value = 0\n",
    "    \n",
    "    for t in tqdm(range(n_epochs)):\n",
    "        # ========================================\n",
    "        #               Training\n",
    "        # ========================================\n",
    "        model.train()\n",
    "        tol_loss = 0\n",
    "        \n",
    "        for i, data in enumerate(train_dataloader):\n",
    "            \n",
    "            data = [i.to(device) for i in data]\n",
    "            X, actions, pi_0, y, full_rewards = data\n",
    "            \n",
    "            pi_w = model.get_action_propensities(X, actions)\n",
    "            r = get_rewards_vector(full_rewards, actions)\n",
    "            loss = loss_func(pi_w, pi_0, r, lamda=lamda)\n",
    "            \n",
    "            optimizer.zero_grad()\n",
    "            loss.backward()\n",
    "            optimizer.step()\n",
    "            \n",
    "            tol_loss += loss\n",
    "        \n",
    "        train_losses.append(tol_loss/len(train_dataloader))\n",
    "        \n",
    "        # ========================================\n",
    "        #               Testing\n",
    "        # ========================================\n",
    "        model.eval()\n",
    "        X_test, y_test, full_rewards_test = test_dataloader.dataset.tensors\n",
    "        X_test = torch.FloatTensor(X_test).to(device)\n",
    "        full_rewards_test = torch.FloatTensor(full_rewards_test).to(device)\n",
    "        \n",
    "        # value\n",
    "        value = model.get_value_estimate(X_test, full_rewards_test).item()\n",
    "        \n",
    "        # deterministic accuracy\n",
    "        y_pred = torch.argmax(model.get_action_distribution(X_test), dim=1)\n",
    "        accuracy = (y_pred.cpu().detach().numpy() == y_test.cpu().detach().numpy()).sum() / len(y_test)\n",
    "        \n",
    "        test_values.append(value)\n",
    "        test_accuracies.append(accuracy)        \n",
    "        \n",
    "        # check if test value is increasing\n",
    "        if value > best_value:\n",
    "            torch.save(model, f'{model_path}.pt')\n",
    "            best_value = value\n",
    "\n",
    "    return train_losses, test_values, test_accuracies, best_value"
   ]
  },
  {
   "cell_type": "code",
   "execution_count": 4,
   "metadata": {},
   "outputs": [],
   "source": [
    "train_dataset = torch.load('../data/train_dataset.pt')\n",
    "test_dataset = torch.load('../data/test_dataset.pt')"
   ]
  },
  {
   "cell_type": "code",
   "execution_count": 6,
   "metadata": {},
   "outputs": [
    {
     "name": "stdout",
     "output_type": "stream",
     "text": [
      "Batch Size:  64\n"
     ]
    },
    {
     "data": {
      "application/vnd.jupyter.widget-view+json": {
       "model_id": "4d3ae2b51202460998ab321e7d185ad7",
       "version_major": 2,
       "version_minor": 0
      },
      "text/plain": [
       "HBox(children=(HTML(value=''), FloatProgress(value=0.0, max=50.0), HTML(value='')))"
      ]
     },
     "metadata": {},
     "output_type": "display_data"
    },
    {
     "name": "stdout",
     "output_type": "stream",
     "text": [
      "\n",
      "BanditNet Value:  0.07261142134666443\n",
      "BanditNet Loss:  0.9180900454521179\n"
     ]
    },
    {
     "data": {
      "application/vnd.jupyter.widget-view+json": {
       "model_id": "d212244395e543fb9ba4e2998da7a03d",
       "version_major": 2,
       "version_minor": 0
      },
      "text/plain": [
       "HBox(children=(HTML(value=''), FloatProgress(value=0.0, max=50.0), HTML(value='')))"
      ]
     },
     "metadata": {},
     "output_type": "display_data"
    },
    {
     "name": "stdout",
     "output_type": "stream",
     "text": [
      "\n",
      "SNIPS Value:  0.08634651452302933\n",
      "SNIPS Loss:  0.8843541741371155\n",
      "==================================================\n",
      "\n",
      "\n",
      "\n",
      "Batch Size:  128\n"
     ]
    },
    {
     "data": {
      "application/vnd.jupyter.widget-view+json": {
       "model_id": "fefd829d2526414bb22a7d0e54c249be",
       "version_major": 2,
       "version_minor": 0
      },
      "text/plain": [
       "HBox(children=(HTML(value=''), FloatProgress(value=0.0, max=50.0), HTML(value='')))"
      ]
     },
     "metadata": {},
     "output_type": "display_data"
    },
    {
     "name": "stdout",
     "output_type": "stream",
     "text": [
      "\n",
      "BanditNet Value:  0.0931156575679779\n",
      "BanditNet Loss:  0.8974903225898743\n"
     ]
    },
    {
     "data": {
      "application/vnd.jupyter.widget-view+json": {
       "model_id": "3380b2f4a0e2479ba6cc3844e228f648",
       "version_major": 2,
       "version_minor": 0
      },
      "text/plain": [
       "HBox(children=(HTML(value=''), FloatProgress(value=0.0, max=50.0), HTML(value='')))"
      ]
     },
     "metadata": {},
     "output_type": "display_data"
    },
    {
     "name": "stdout",
     "output_type": "stream",
     "text": [
      "\n",
      "SNIPS Value:  0.08844666182994843\n",
      "SNIPS Loss:  0.8934233784675598\n",
      "==================================================\n",
      "\n",
      "\n",
      "\n",
      "Batch Size:  256\n"
     ]
    },
    {
     "data": {
      "application/vnd.jupyter.widget-view+json": {
       "model_id": "51b31135180e4c0686eaf4314c3131d4",
       "version_major": 2,
       "version_minor": 0
      },
      "text/plain": [
       "HBox(children=(HTML(value=''), FloatProgress(value=0.0, max=50.0), HTML(value='')))"
      ]
     },
     "metadata": {},
     "output_type": "display_data"
    },
    {
     "name": "stdout",
     "output_type": "stream",
     "text": [
      "\n",
      "BanditNet Value:  0.16151724755764008\n",
      "BanditNet Loss:  0.8295487761497498\n"
     ]
    },
    {
     "data": {
      "application/vnd.jupyter.widget-view+json": {
       "model_id": "1d1cd2d375594316869f1e33e41e63fd",
       "version_major": 2,
       "version_minor": 0
      },
      "text/plain": [
       "HBox(children=(HTML(value=''), FloatProgress(value=0.0, max=50.0), HTML(value='')))"
      ]
     },
     "metadata": {},
     "output_type": "display_data"
    },
    {
     "name": "stdout",
     "output_type": "stream",
     "text": [
      "\n",
      "SNIPS Value:  0.11497370153665543\n",
      "SNIPS Loss:  0.8427345156669617\n",
      "==================================================\n",
      "\n",
      "\n",
      "\n",
      "Batch Size:  512\n"
     ]
    },
    {
     "data": {
      "application/vnd.jupyter.widget-view+json": {
       "model_id": "8236bc91fd494d15aae8d6babdfca595",
       "version_major": 2,
       "version_minor": 0
      },
      "text/plain": [
       "HBox(children=(HTML(value=''), FloatProgress(value=0.0, max=50.0), HTML(value='')))"
      ]
     },
     "metadata": {},
     "output_type": "display_data"
    },
    {
     "name": "stdout",
     "output_type": "stream",
     "text": [
      "\n",
      "BanditNet Value:  0.12919048964977264\n",
      "BanditNet Loss:  0.788617730140686\n"
     ]
    },
    {
     "data": {
      "application/vnd.jupyter.widget-view+json": {
       "model_id": "e8dd37878c1e4bed926b802f7354492c",
       "version_major": 2,
       "version_minor": 0
      },
      "text/plain": [
       "HBox(children=(HTML(value=''), FloatProgress(value=0.0, max=50.0), HTML(value='')))"
      ]
     },
     "metadata": {},
     "output_type": "display_data"
    },
    {
     "name": "stdout",
     "output_type": "stream",
     "text": [
      "\n",
      "SNIPS Value:  0.08611742407083511\n",
      "SNIPS Loss:  0.8586195111274719\n",
      "==================================================\n",
      "\n",
      "\n",
      "\n",
      "Batch Size:  1024\n"
     ]
    },
    {
     "data": {
      "application/vnd.jupyter.widget-view+json": {
       "model_id": "0bcac932d0144e85ae4f9beaef0ece9f",
       "version_major": 2,
       "version_minor": 0
      },
      "text/plain": [
       "HBox(children=(HTML(value=''), FloatProgress(value=0.0, max=50.0), HTML(value='')))"
      ]
     },
     "metadata": {},
     "output_type": "display_data"
    },
    {
     "name": "stdout",
     "output_type": "stream",
     "text": [
      "\n",
      "BanditNet Value:  0.20250867307186127\n",
      "BanditNet Loss:  0.7358907461166382\n"
     ]
    },
    {
     "data": {
      "application/vnd.jupyter.widget-view+json": {
       "model_id": "6eea43c933a442cfa71c4cde6c1777ac",
       "version_major": 2,
       "version_minor": 0
      },
      "text/plain": [
       "HBox(children=(HTML(value=''), FloatProgress(value=0.0, max=50.0), HTML(value='')))"
      ]
     },
     "metadata": {},
     "output_type": "display_data"
    },
    {
     "name": "stdout",
     "output_type": "stream",
     "text": [
      "\n",
      "SNIPS Value:  0.1266627311706543\n",
      "SNIPS Loss:  0.8609011769294739\n",
      "==================================================\n",
      "\n",
      "\n",
      "\n",
      "Batch Size:  2048\n"
     ]
    },
    {
     "data": {
      "application/vnd.jupyter.widget-view+json": {
       "model_id": "fd587f4ada944bd6b19fe7a46e43d2ec",
       "version_major": 2,
       "version_minor": 0
      },
      "text/plain": [
       "HBox(children=(HTML(value=''), FloatProgress(value=0.0, max=50.0), HTML(value='')))"
      ]
     },
     "metadata": {},
     "output_type": "display_data"
    },
    {
     "name": "stdout",
     "output_type": "stream",
     "text": [
      "\n",
      "BanditNet Value:  0.2068261206150055\n",
      "BanditNet Loss:  0.7115663886070251\n"
     ]
    },
    {
     "data": {
      "application/vnd.jupyter.widget-view+json": {
       "model_id": "8316664c5a9c46ac8e0bd4c38d3459de",
       "version_major": 2,
       "version_minor": 0
      },
      "text/plain": [
       "HBox(children=(HTML(value=''), FloatProgress(value=0.0, max=50.0), HTML(value='')))"
      ]
     },
     "metadata": {},
     "output_type": "display_data"
    },
    {
     "name": "stdout",
     "output_type": "stream",
     "text": [
      "\n",
      "SNIPS Value:  0.09128447622060776\n",
      "SNIPS Loss:  0.8904736042022705\n",
      "==================================================\n",
      "\n",
      "\n",
      "\n",
      "Batch Size:  4096\n"
     ]
    },
    {
     "data": {
      "application/vnd.jupyter.widget-view+json": {
       "model_id": "c92689793a60427d856093476e0d485c",
       "version_major": 2,
       "version_minor": 0
      },
      "text/plain": [
       "HBox(children=(HTML(value=''), FloatProgress(value=0.0, max=50.0), HTML(value='')))"
      ]
     },
     "metadata": {},
     "output_type": "display_data"
    },
    {
     "name": "stdout",
     "output_type": "stream",
     "text": [
      "\n",
      "BanditNet Value:  0.10231105983257294\n",
      "BanditNet Loss:  0.8612636923789978\n"
     ]
    },
    {
     "data": {
      "application/vnd.jupyter.widget-view+json": {
       "model_id": "ddc3f64334794c119b6c2130644e7b64",
       "version_major": 2,
       "version_minor": 0
      },
      "text/plain": [
       "HBox(children=(HTML(value=''), FloatProgress(value=0.0, max=50.0), HTML(value='')))"
      ]
     },
     "metadata": {},
     "output_type": "display_data"
    },
    {
     "name": "stdout",
     "output_type": "stream",
     "text": [
      "\n",
      "SNIPS Value:  0.13666611909866333\n",
      "SNIPS Loss:  0.8572790026664734\n",
      "==================================================\n",
      "\n",
      "\n",
      "\n"
     ]
    }
   ],
   "source": [
    "batch_sizes = [64, 128, 256, 512, 1024, 2048, 4096]\n",
    "lr = 0.1\n",
    "n_epochs = 50\n",
    "model_dir = '../models/0/'\n",
    "\n",
    "X_test, y_test, full_rewards_test = test_dataset.tensors\n",
    "X_test = torch.FloatTensor(X_test).to(device)\n",
    "full_rewards_test = torch.FloatTensor(full_rewards_test).to(device)\n",
    "BN_values = []\n",
    "BN_losses = []\n",
    "SNIPS_values = []\n",
    "SNIPS_losses = []\n",
    "\n",
    "for batch_size in batch_sizes:\n",
    "    \n",
    "    print('Batch Size: ', batch_size)\n",
    "    \n",
    "    # get dataloaders\n",
    "    train_dataloader, test_dataloader = get_dataloaders(train_dataset, test_dataset, batch_size=64)\n",
    "    \n",
    "    #===========================\n",
    "    #   BanditNet\n",
    "    #===========================\n",
    "    loss_func = banditnet_loss\n",
    "    model_name = model_dir + f'{batch_size}-BanditNet'\n",
    "    \n",
    "    model = LogisticPolicy(num_actions=26, num_features=16)\n",
    "    model = model.to(device)\n",
    "    optimizer = torch.optim.SGD(model.parameters(), lr=lr)\n",
    "    BN_results = train_loop(model, optimizer, train_dataloader, test_dataloader, n_epochs=n_epochs, \n",
    "                            loss_func=loss_func, model_path=model_name)\n",
    "    \n",
    "    ## load best model\n",
    "    model = torch.load(f'{model_name}.pt')\n",
    "    model = model.to(device)\n",
    "    ## value\n",
    "    value = model.get_value_estimate(X_test, full_rewards_test).item()\n",
    "    \n",
    "    ## snips loss\n",
    "    pi_w = model.get_action_propensities(train_dataset.tensors[0].to(device), train_dataset.tensors[1].to(device))\n",
    "    r = get_rewards_vector(train_dataset.tensors[-1].to(device), train_dataset.tensors[1].to(device))\n",
    "    loss = snips_loss(pi_w, train_dataset.tensors[2].to(device), r).item()\n",
    "    \n",
    "    BN_values.append(value)\n",
    "    BN_losses.append(loss)\n",
    "    \n",
    "    print('BanditNet Value: ', value)\n",
    "    print('BanditNet Loss: ', loss)\n",
    "    \n",
    "    #===========================\n",
    "    #   SNIPS\n",
    "    #===========================\n",
    "    loss_func = snips_loss\n",
    "    model_name = model_dir + f'{batch_size}-SNIPS'\n",
    "    \n",
    "    model = LogisticPolicy(num_actions=26, num_features=16)\n",
    "    model = model.to(device)\n",
    "    optimizer = torch.optim.SGD(model.parameters(), lr=lr)\n",
    "    SNIPS_results = train_loop(model, optimizer, train_dataloader, test_dataloader, n_epochs=n_epochs, \n",
    "                               loss_func=loss_func, model_path=model_name)\n",
    "    \n",
    "    ## load best model\n",
    "    model = torch.load(f'{model_name}.pt')\n",
    "    model = model.to(device)\n",
    "    ## value\n",
    "    value = model.get_value_estimate(X_test, full_rewards_test).item()\n",
    "    \n",
    "    ## snips loss\n",
    "    pi_w = model.get_action_propensities(train_dataset.tensors[0].to(device), train_dataset.tensors[1].to(device))\n",
    "    r = get_rewards_vector(train_dataset.tensors[-1].to(device), train_dataset.tensors[1].to(device))\n",
    "    loss = snips_loss(pi_w, train_dataset.tensors[2].to(device), r).item()\n",
    "    \n",
    "    SNIPS_values.append(value)\n",
    "    SNIPS_losses.append(loss)\n",
    "    \n",
    "    print('SNIPS Value: ', value)\n",
    "    print('SNIPS Loss: ', loss)\n",
    "    print('='*50)\n",
    "    print('\\n\\n')\n",
    "\n",
    "    \n",
    "# Save results to a DataFrame\n",
    "results_df = pd.DataFrame({\n",
    "    'Batch_Size': batch_sizes,\n",
    "    'BanditNet_Value': BN_values,\n",
    "    'BanditNet_Loss': BN_losses,\n",
    "    'SNIPS_Value': SNIPS_values,\n",
    "    'SNIPS_Loss': SNIPS_losses\n",
    "}) "
   ]
  },
  {
   "cell_type": "code",
   "execution_count": 7,
   "metadata": {},
   "outputs": [
    {
     "data": {
      "text/html": [
       "<div>\n",
       "<style scoped>\n",
       "    .dataframe tbody tr th:only-of-type {\n",
       "        vertical-align: middle;\n",
       "    }\n",
       "\n",
       "    .dataframe tbody tr th {\n",
       "        vertical-align: top;\n",
       "    }\n",
       "\n",
       "    .dataframe thead th {\n",
       "        text-align: right;\n",
       "    }\n",
       "</style>\n",
       "<table border=\"1\" class=\"dataframe\">\n",
       "  <thead>\n",
       "    <tr style=\"text-align: right;\">\n",
       "      <th></th>\n",
       "      <th>Batch_Size</th>\n",
       "      <th>BanditNet_Value</th>\n",
       "      <th>BanditNet_Loss</th>\n",
       "      <th>SNIPS_Value</th>\n",
       "      <th>SNIPS_Loss</th>\n",
       "    </tr>\n",
       "  </thead>\n",
       "  <tbody>\n",
       "    <tr>\n",
       "      <th>0</th>\n",
       "      <td>64</td>\n",
       "      <td>0.072611</td>\n",
       "      <td>0.918090</td>\n",
       "      <td>0.086347</td>\n",
       "      <td>0.884354</td>\n",
       "    </tr>\n",
       "    <tr>\n",
       "      <th>1</th>\n",
       "      <td>128</td>\n",
       "      <td>0.093116</td>\n",
       "      <td>0.897490</td>\n",
       "      <td>0.088447</td>\n",
       "      <td>0.893423</td>\n",
       "    </tr>\n",
       "    <tr>\n",
       "      <th>2</th>\n",
       "      <td>256</td>\n",
       "      <td>0.161517</td>\n",
       "      <td>0.829549</td>\n",
       "      <td>0.114974</td>\n",
       "      <td>0.842735</td>\n",
       "    </tr>\n",
       "    <tr>\n",
       "      <th>3</th>\n",
       "      <td>512</td>\n",
       "      <td>0.129190</td>\n",
       "      <td>0.788618</td>\n",
       "      <td>0.086117</td>\n",
       "      <td>0.858620</td>\n",
       "    </tr>\n",
       "    <tr>\n",
       "      <th>4</th>\n",
       "      <td>1024</td>\n",
       "      <td>0.202509</td>\n",
       "      <td>0.735891</td>\n",
       "      <td>0.126663</td>\n",
       "      <td>0.860901</td>\n",
       "    </tr>\n",
       "    <tr>\n",
       "      <th>5</th>\n",
       "      <td>2048</td>\n",
       "      <td>0.206826</td>\n",
       "      <td>0.711566</td>\n",
       "      <td>0.091284</td>\n",
       "      <td>0.890474</td>\n",
       "    </tr>\n",
       "    <tr>\n",
       "      <th>6</th>\n",
       "      <td>4096</td>\n",
       "      <td>0.102311</td>\n",
       "      <td>0.861264</td>\n",
       "      <td>0.136666</td>\n",
       "      <td>0.857279</td>\n",
       "    </tr>\n",
       "  </tbody>\n",
       "</table>\n",
       "</div>"
      ],
      "text/plain": [
       "   Batch_Size  BanditNet_Value  BanditNet_Loss  SNIPS_Value  SNIPS_Loss\n",
       "0          64         0.072611        0.918090     0.086347    0.884354\n",
       "1         128         0.093116        0.897490     0.088447    0.893423\n",
       "2         256         0.161517        0.829549     0.114974    0.842735\n",
       "3         512         0.129190        0.788618     0.086117    0.858620\n",
       "4        1024         0.202509        0.735891     0.126663    0.860901\n",
       "5        2048         0.206826        0.711566     0.091284    0.890474\n",
       "6        4096         0.102311        0.861264     0.136666    0.857279"
      ]
     },
     "execution_count": 7,
     "metadata": {},
     "output_type": "execute_result"
    }
   ],
   "source": [
    "results_df"
   ]
  },
  {
   "cell_type": "code",
   "execution_count": 8,
   "metadata": {},
   "outputs": [],
   "source": [
    "results_df.to_csv('../models/0/results.csv', index=False)"
   ]
  },
  {
   "cell_type": "code",
   "execution_count": 9,
   "metadata": {},
   "outputs": [
    {
     "name": "stdout",
     "output_type": "stream",
     "text": [
      "Batch Size:  64\n"
     ]
    },
    {
     "data": {
      "application/vnd.jupyter.widget-view+json": {
       "model_id": "24ba23deeb364f09bf042c8a3b3f93a3",
       "version_major": 2,
       "version_minor": 0
      },
      "text/plain": [
       "HBox(children=(HTML(value=''), FloatProgress(value=0.0, max=50.0), HTML(value='')))"
      ]
     },
     "metadata": {},
     "output_type": "display_data"
    },
    {
     "name": "stdout",
     "output_type": "stream",
     "text": [
      "\n",
      "BanditNet Value:  0.20689363777637482\n",
      "BanditNet Loss:  0.7416794300079346\n"
     ]
    },
    {
     "data": {
      "application/vnd.jupyter.widget-view+json": {
       "model_id": "c7247180c3e24045b45cf9502ce6770b",
       "version_major": 2,
       "version_minor": 0
      },
      "text/plain": [
       "HBox(children=(HTML(value=''), FloatProgress(value=0.0, max=50.0), HTML(value='')))"
      ]
     },
     "metadata": {},
     "output_type": "display_data"
    },
    {
     "name": "stdout",
     "output_type": "stream",
     "text": [
      "\n",
      "SNIPS Value:  0.10502137243747711\n",
      "SNIPS Loss:  0.8610108494758606\n",
      "==================================================\n",
      "\n",
      "\n",
      "\n",
      "Batch Size:  128\n"
     ]
    },
    {
     "data": {
      "application/vnd.jupyter.widget-view+json": {
       "model_id": "0739f7e1786745f8a9953cc4a6b89179",
       "version_major": 2,
       "version_minor": 0
      },
      "text/plain": [
       "HBox(children=(HTML(value=''), FloatProgress(value=0.0, max=50.0), HTML(value='')))"
      ]
     },
     "metadata": {},
     "output_type": "display_data"
    },
    {
     "name": "stdout",
     "output_type": "stream",
     "text": [
      "\n",
      "BanditNet Value:  0.19380448758602142\n",
      "BanditNet Loss:  0.780174195766449\n"
     ]
    },
    {
     "data": {
      "application/vnd.jupyter.widget-view+json": {
       "model_id": "7cd2fe84ee554e7d9d91ad643a999f45",
       "version_major": 2,
       "version_minor": 0
      },
      "text/plain": [
       "HBox(children=(HTML(value=''), FloatProgress(value=0.0, max=50.0), HTML(value='')))"
      ]
     },
     "metadata": {},
     "output_type": "display_data"
    },
    {
     "name": "stdout",
     "output_type": "stream",
     "text": [
      "\n",
      "SNIPS Value:  0.12448729574680328\n",
      "SNIPS Loss:  0.8636963367462158\n",
      "==================================================\n",
      "\n",
      "\n",
      "\n",
      "Batch Size:  256\n"
     ]
    },
    {
     "data": {
      "application/vnd.jupyter.widget-view+json": {
       "model_id": "ca236a10a6b54329b59c1aa808894b52",
       "version_major": 2,
       "version_minor": 0
      },
      "text/plain": [
       "HBox(children=(HTML(value=''), FloatProgress(value=0.0, max=50.0), HTML(value='')))"
      ]
     },
     "metadata": {},
     "output_type": "display_data"
    },
    {
     "name": "stdout",
     "output_type": "stream",
     "text": [
      "\n",
      "BanditNet Value:  0.12684370577335358\n",
      "BanditNet Loss:  0.8688867092132568\n"
     ]
    },
    {
     "data": {
      "application/vnd.jupyter.widget-view+json": {
       "model_id": "c0a963d548df495e9b637b8d1f56eb31",
       "version_major": 2,
       "version_minor": 0
      },
      "text/plain": [
       "HBox(children=(HTML(value=''), FloatProgress(value=0.0, max=50.0), HTML(value='')))"
      ]
     },
     "metadata": {},
     "output_type": "display_data"
    },
    {
     "name": "stdout",
     "output_type": "stream",
     "text": [
      "\n",
      "SNIPS Value:  0.11913691461086273\n",
      "SNIPS Loss:  0.8620232939720154\n",
      "==================================================\n",
      "\n",
      "\n",
      "\n",
      "Batch Size:  512\n"
     ]
    },
    {
     "data": {
      "application/vnd.jupyter.widget-view+json": {
       "model_id": "37be6e6ce3dc4ff093b5393fcc43e40f",
       "version_major": 2,
       "version_minor": 0
      },
      "text/plain": [
       "HBox(children=(HTML(value=''), FloatProgress(value=0.0, max=50.0), HTML(value='')))"
      ]
     },
     "metadata": {},
     "output_type": "display_data"
    },
    {
     "name": "stdout",
     "output_type": "stream",
     "text": [
      "\n",
      "BanditNet Value:  0.18853257596492767\n",
      "BanditNet Loss:  0.780601441860199\n"
     ]
    },
    {
     "data": {
      "application/vnd.jupyter.widget-view+json": {
       "model_id": "18d33384eecd4927a05fedac45ce100e",
       "version_major": 2,
       "version_minor": 0
      },
      "text/plain": [
       "HBox(children=(HTML(value=''), FloatProgress(value=0.0, max=50.0), HTML(value='')))"
      ]
     },
     "metadata": {},
     "output_type": "display_data"
    },
    {
     "name": "stdout",
     "output_type": "stream",
     "text": [
      "\n",
      "SNIPS Value:  0.15687847137451172\n",
      "SNIPS Loss:  0.7868620753288269\n",
      "==================================================\n",
      "\n",
      "\n",
      "\n",
      "Batch Size:  1024\n"
     ]
    },
    {
     "data": {
      "application/vnd.jupyter.widget-view+json": {
       "model_id": "a36796e89dbd41b28b923b6a65274d4e",
       "version_major": 2,
       "version_minor": 0
      },
      "text/plain": [
       "HBox(children=(HTML(value=''), FloatProgress(value=0.0, max=50.0), HTML(value='')))"
      ]
     },
     "metadata": {},
     "output_type": "display_data"
    },
    {
     "name": "stdout",
     "output_type": "stream",
     "text": [
      "\n",
      "BanditNet Value:  0.1756957620382309\n",
      "BanditNet Loss:  0.7815707921981812\n"
     ]
    },
    {
     "data": {
      "application/vnd.jupyter.widget-view+json": {
       "model_id": "167e38cc8a1f4b3b8aae83495389f894",
       "version_major": 2,
       "version_minor": 0
      },
      "text/plain": [
       "HBox(children=(HTML(value=''), FloatProgress(value=0.0, max=50.0), HTML(value='')))"
      ]
     },
     "metadata": {},
     "output_type": "display_data"
    },
    {
     "name": "stdout",
     "output_type": "stream",
     "text": [
      "\n",
      "SNIPS Value:  0.10975830256938934\n",
      "SNIPS Loss:  0.8945661783218384\n",
      "==================================================\n",
      "\n",
      "\n",
      "\n",
      "Batch Size:  2048\n"
     ]
    },
    {
     "data": {
      "application/vnd.jupyter.widget-view+json": {
       "model_id": "ab57546d8dbc4f628bbcb215542b4432",
       "version_major": 2,
       "version_minor": 0
      },
      "text/plain": [
       "HBox(children=(HTML(value=''), FloatProgress(value=0.0, max=50.0), HTML(value='')))"
      ]
     },
     "metadata": {},
     "output_type": "display_data"
    },
    {
     "name": "stdout",
     "output_type": "stream",
     "text": [
      "\n",
      "BanditNet Value:  0.22271673381328583\n",
      "BanditNet Loss:  0.7290008068084717\n"
     ]
    },
    {
     "data": {
      "application/vnd.jupyter.widget-view+json": {
       "model_id": "d45bf2fd2a5d4e04ae8883f7afd7afd0",
       "version_major": 2,
       "version_minor": 0
      },
      "text/plain": [
       "HBox(children=(HTML(value=''), FloatProgress(value=0.0, max=50.0), HTML(value='')))"
      ]
     },
     "metadata": {},
     "output_type": "display_data"
    },
    {
     "name": "stdout",
     "output_type": "stream",
     "text": [
      "\n",
      "SNIPS Value:  0.10528328269720078\n",
      "SNIPS Loss:  0.9141712784767151\n",
      "==================================================\n",
      "\n",
      "\n",
      "\n",
      "Batch Size:  4096\n"
     ]
    },
    {
     "data": {
      "application/vnd.jupyter.widget-view+json": {
       "model_id": "5dc50a64e7a2425cba5d99b5fe5d1e53",
       "version_major": 2,
       "version_minor": 0
      },
      "text/plain": [
       "HBox(children=(HTML(value=''), FloatProgress(value=0.0, max=50.0), HTML(value='')))"
      ]
     },
     "metadata": {},
     "output_type": "display_data"
    },
    {
     "name": "stdout",
     "output_type": "stream",
     "text": [
      "\n",
      "BanditNet Value:  0.21021346747875214\n",
      "BanditNet Loss:  0.7174968123435974\n"
     ]
    },
    {
     "data": {
      "application/vnd.jupyter.widget-view+json": {
       "model_id": "fc28f2615b364e3ba1276c09b917ac18",
       "version_major": 2,
       "version_minor": 0
      },
      "text/plain": [
       "HBox(children=(HTML(value=''), FloatProgress(value=0.0, max=50.0), HTML(value='')))"
      ]
     },
     "metadata": {},
     "output_type": "display_data"
    },
    {
     "name": "stdout",
     "output_type": "stream",
     "text": [
      "\n",
      "SNIPS Value:  0.1324721723794937\n",
      "SNIPS Loss:  0.858963131904602\n",
      "==================================================\n",
      "\n",
      "\n",
      "\n"
     ]
    }
   ],
   "source": [
    "batch_sizes = [64, 128, 256, 512, 1024, 2048, 4096]\n",
    "lr = 0.1\n",
    "n_epochs = 50\n",
    "model_dir = '../models/1/'\n",
    "\n",
    "X_test, y_test, full_rewards_test = test_dataset.tensors\n",
    "X_test = torch.FloatTensor(X_test).to(device)\n",
    "full_rewards_test = torch.FloatTensor(full_rewards_test).to(device)\n",
    "BN_values = []\n",
    "BN_losses = []\n",
    "SNIPS_values = []\n",
    "SNIPS_losses = []\n",
    "\n",
    "for batch_size in batch_sizes:\n",
    "    \n",
    "    print('Batch Size: ', batch_size)\n",
    "    \n",
    "    # get dataloaders\n",
    "    train_dataloader, test_dataloader = get_dataloaders(train_dataset, test_dataset, batch_size=64)\n",
    "    \n",
    "    #===========================\n",
    "    #   BanditNet\n",
    "    #===========================\n",
    "    loss_func = banditnet_loss\n",
    "    model_name = model_dir + f'{batch_size}-BanditNet'\n",
    "    \n",
    "    model = LogisticPolicy(num_actions=26, num_features=16)\n",
    "    model = model.to(device)\n",
    "    optimizer = torch.optim.SGD(model.parameters(), lr=lr)\n",
    "    BN_results = train_loop(model, optimizer, train_dataloader, test_dataloader, n_epochs=n_epochs, \n",
    "                            loss_func=loss_func, model_path=model_name)\n",
    "    \n",
    "    ## load best model\n",
    "    model = torch.load(f'{model_name}.pt')\n",
    "    model = model.to(device)\n",
    "    ## value\n",
    "    value = model.get_value_estimate(X_test, full_rewards_test).item()\n",
    "    \n",
    "    ## snips loss\n",
    "    pi_w = model.get_action_propensities(train_dataset.tensors[0].to(device), train_dataset.tensors[1].to(device))\n",
    "    r = get_rewards_vector(train_dataset.tensors[-1].to(device), train_dataset.tensors[1].to(device))\n",
    "    loss = snips_loss(pi_w, train_dataset.tensors[2].to(device), r).item()\n",
    "    \n",
    "    BN_values.append(value)\n",
    "    BN_losses.append(loss)\n",
    "    \n",
    "    print('BanditNet Value: ', value)\n",
    "    print('BanditNet Loss: ', loss)\n",
    "    \n",
    "    #===========================\n",
    "    #   SNIPS\n",
    "    #===========================\n",
    "    loss_func = snips_loss\n",
    "    model_name = model_dir + f'{batch_size}-SNIPS'\n",
    "    \n",
    "    model = LogisticPolicy(num_actions=26, num_features=16)\n",
    "    model = model.to(device)\n",
    "    optimizer = torch.optim.SGD(model.parameters(), lr=lr)\n",
    "    SNIPS_results = train_loop(model, optimizer, train_dataloader, test_dataloader, n_epochs=n_epochs, \n",
    "                               loss_func=loss_func, model_path=model_name)\n",
    "    \n",
    "    ## load best model\n",
    "    model = torch.load(f'{model_name}.pt')\n",
    "    model = model.to(device)\n",
    "    ## value\n",
    "    value = model.get_value_estimate(X_test, full_rewards_test).item()\n",
    "    \n",
    "    ## snips loss\n",
    "    pi_w = model.get_action_propensities(train_dataset.tensors[0].to(device), train_dataset.tensors[1].to(device))\n",
    "    r = get_rewards_vector(train_dataset.tensors[-1].to(device), train_dataset.tensors[1].to(device))\n",
    "    loss = snips_loss(pi_w, train_dataset.tensors[2].to(device), r).item()\n",
    "    \n",
    "    SNIPS_values.append(value)\n",
    "    SNIPS_losses.append(loss)\n",
    "    \n",
    "    print('SNIPS Value: ', value)\n",
    "    print('SNIPS Loss: ', loss)\n",
    "    print('='*50)\n",
    "    print('\\n\\n')\n",
    "\n",
    "    \n",
    "# Save results to a DataFrame\n",
    "results_df = pd.DataFrame({\n",
    "    'Batch_Size': batch_sizes,\n",
    "    'BanditNet_Value': BN_values,\n",
    "    'BanditNet_Loss': BN_losses,\n",
    "    'SNIPS_Value': SNIPS_values,\n",
    "    'SNIPS_Loss': SNIPS_losses\n",
    "}) "
   ]
  },
  {
   "cell_type": "code",
   "execution_count": 10,
   "metadata": {},
   "outputs": [
    {
     "data": {
      "text/html": [
       "<div>\n",
       "<style scoped>\n",
       "    .dataframe tbody tr th:only-of-type {\n",
       "        vertical-align: middle;\n",
       "    }\n",
       "\n",
       "    .dataframe tbody tr th {\n",
       "        vertical-align: top;\n",
       "    }\n",
       "\n",
       "    .dataframe thead th {\n",
       "        text-align: right;\n",
       "    }\n",
       "</style>\n",
       "<table border=\"1\" class=\"dataframe\">\n",
       "  <thead>\n",
       "    <tr style=\"text-align: right;\">\n",
       "      <th></th>\n",
       "      <th>Batch_Size</th>\n",
       "      <th>BanditNet_Value</th>\n",
       "      <th>BanditNet_Loss</th>\n",
       "      <th>SNIPS_Value</th>\n",
       "      <th>SNIPS_Loss</th>\n",
       "    </tr>\n",
       "  </thead>\n",
       "  <tbody>\n",
       "    <tr>\n",
       "      <th>0</th>\n",
       "      <td>64</td>\n",
       "      <td>0.206894</td>\n",
       "      <td>0.741679</td>\n",
       "      <td>0.105021</td>\n",
       "      <td>0.861011</td>\n",
       "    </tr>\n",
       "    <tr>\n",
       "      <th>1</th>\n",
       "      <td>128</td>\n",
       "      <td>0.193804</td>\n",
       "      <td>0.780174</td>\n",
       "      <td>0.124487</td>\n",
       "      <td>0.863696</td>\n",
       "    </tr>\n",
       "    <tr>\n",
       "      <th>2</th>\n",
       "      <td>256</td>\n",
       "      <td>0.126844</td>\n",
       "      <td>0.868887</td>\n",
       "      <td>0.119137</td>\n",
       "      <td>0.862023</td>\n",
       "    </tr>\n",
       "    <tr>\n",
       "      <th>3</th>\n",
       "      <td>512</td>\n",
       "      <td>0.188533</td>\n",
       "      <td>0.780601</td>\n",
       "      <td>0.156878</td>\n",
       "      <td>0.786862</td>\n",
       "    </tr>\n",
       "    <tr>\n",
       "      <th>4</th>\n",
       "      <td>1024</td>\n",
       "      <td>0.175696</td>\n",
       "      <td>0.781571</td>\n",
       "      <td>0.109758</td>\n",
       "      <td>0.894566</td>\n",
       "    </tr>\n",
       "    <tr>\n",
       "      <th>5</th>\n",
       "      <td>2048</td>\n",
       "      <td>0.222717</td>\n",
       "      <td>0.729001</td>\n",
       "      <td>0.105283</td>\n",
       "      <td>0.914171</td>\n",
       "    </tr>\n",
       "    <tr>\n",
       "      <th>6</th>\n",
       "      <td>4096</td>\n",
       "      <td>0.210213</td>\n",
       "      <td>0.717497</td>\n",
       "      <td>0.132472</td>\n",
       "      <td>0.858963</td>\n",
       "    </tr>\n",
       "  </tbody>\n",
       "</table>\n",
       "</div>"
      ],
      "text/plain": [
       "   Batch_Size  BanditNet_Value  BanditNet_Loss  SNIPS_Value  SNIPS_Loss\n",
       "0          64         0.206894        0.741679     0.105021    0.861011\n",
       "1         128         0.193804        0.780174     0.124487    0.863696\n",
       "2         256         0.126844        0.868887     0.119137    0.862023\n",
       "3         512         0.188533        0.780601     0.156878    0.786862\n",
       "4        1024         0.175696        0.781571     0.109758    0.894566\n",
       "5        2048         0.222717        0.729001     0.105283    0.914171\n",
       "6        4096         0.210213        0.717497     0.132472    0.858963"
      ]
     },
     "execution_count": 10,
     "metadata": {},
     "output_type": "execute_result"
    }
   ],
   "source": [
    "results_df"
   ]
  },
  {
   "cell_type": "code",
   "execution_count": 11,
   "metadata": {},
   "outputs": [],
   "source": [
    "results_df.to_csv('../models/1/results.csv', index=False)"
   ]
  },
  {
   "cell_type": "code",
   "execution_count": 12,
   "metadata": {},
   "outputs": [
    {
     "name": "stdout",
     "output_type": "stream",
     "text": [
      "Batch Size:  64\n"
     ]
    },
    {
     "data": {
      "application/vnd.jupyter.widget-view+json": {
       "model_id": "f52ff75b49b549bb9d13c6e6608b5f68",
       "version_major": 2,
       "version_minor": 0
      },
      "text/plain": [
       "HBox(children=(HTML(value=''), FloatProgress(value=0.0, max=50.0), HTML(value='')))"
      ]
     },
     "metadata": {},
     "output_type": "display_data"
    },
    {
     "name": "stdout",
     "output_type": "stream",
     "text": [
      "\n",
      "BanditNet Value:  0.2172599881887436\n",
      "BanditNet Loss:  0.7124348282814026\n"
     ]
    },
    {
     "data": {
      "application/vnd.jupyter.widget-view+json": {
       "model_id": "2006c18d23344e9abce8d3f129cf4f45",
       "version_major": 2,
       "version_minor": 0
      },
      "text/plain": [
       "HBox(children=(HTML(value=''), FloatProgress(value=0.0, max=50.0), HTML(value='')))"
      ]
     },
     "metadata": {},
     "output_type": "display_data"
    },
    {
     "name": "stdout",
     "output_type": "stream",
     "text": [
      "\n",
      "SNIPS Value:  0.10756157338619232\n",
      "SNIPS Loss:  0.8722429275512695\n",
      "==================================================\n",
      "\n",
      "\n",
      "\n",
      "Batch Size:  128\n"
     ]
    },
    {
     "data": {
      "application/vnd.jupyter.widget-view+json": {
       "model_id": "52cfa5dbaa4d46bda6ae303c43bffeaf",
       "version_major": 2,
       "version_minor": 0
      },
      "text/plain": [
       "HBox(children=(HTML(value=''), FloatProgress(value=0.0, max=50.0), HTML(value='')))"
      ]
     },
     "metadata": {},
     "output_type": "display_data"
    },
    {
     "name": "stdout",
     "output_type": "stream",
     "text": [
      "\n",
      "BanditNet Value:  0.10906437039375305\n",
      "BanditNet Loss:  0.881159782409668\n"
     ]
    },
    {
     "data": {
      "application/vnd.jupyter.widget-view+json": {
       "model_id": "2d866ec5de334ca4ac24c85819a9c676",
       "version_major": 2,
       "version_minor": 0
      },
      "text/plain": [
       "HBox(children=(HTML(value=''), FloatProgress(value=0.0, max=50.0), HTML(value='')))"
      ]
     },
     "metadata": {},
     "output_type": "display_data"
    },
    {
     "name": "stdout",
     "output_type": "stream",
     "text": [
      "\n",
      "SNIPS Value:  0.11805941164493561\n",
      "SNIPS Loss:  0.8896043300628662\n",
      "==================================================\n",
      "\n",
      "\n",
      "\n",
      "Batch Size:  256\n"
     ]
    },
    {
     "data": {
      "application/vnd.jupyter.widget-view+json": {
       "model_id": "e83b120344414d84a4f0162636ecb08b",
       "version_major": 2,
       "version_minor": 0
      },
      "text/plain": [
       "HBox(children=(HTML(value=''), FloatProgress(value=0.0, max=50.0), HTML(value='')))"
      ]
     },
     "metadata": {},
     "output_type": "display_data"
    },
    {
     "name": "stdout",
     "output_type": "stream",
     "text": [
      "\n",
      "BanditNet Value:  0.10586566478013992\n",
      "BanditNet Loss:  0.8666161894798279\n"
     ]
    },
    {
     "data": {
      "application/vnd.jupyter.widget-view+json": {
       "model_id": "5445ea07de154d07b511ad6041ffdd63",
       "version_major": 2,
       "version_minor": 0
      },
      "text/plain": [
       "HBox(children=(HTML(value=''), FloatProgress(value=0.0, max=50.0), HTML(value='')))"
      ]
     },
     "metadata": {},
     "output_type": "display_data"
    },
    {
     "name": "stdout",
     "output_type": "stream",
     "text": [
      "\n",
      "SNIPS Value:  0.14123770594596863\n",
      "SNIPS Loss:  0.8656289577484131\n",
      "==================================================\n",
      "\n",
      "\n",
      "\n",
      "Batch Size:  512\n"
     ]
    },
    {
     "data": {
      "application/vnd.jupyter.widget-view+json": {
       "model_id": "b78ac83452e64b2785c23a89f491231c",
       "version_major": 2,
       "version_minor": 0
      },
      "text/plain": [
       "HBox(children=(HTML(value=''), FloatProgress(value=0.0, max=50.0), HTML(value='')))"
      ]
     },
     "metadata": {},
     "output_type": "display_data"
    },
    {
     "name": "stdout",
     "output_type": "stream",
     "text": [
      "\n",
      "BanditNet Value:  0.19014452397823334\n",
      "BanditNet Loss:  0.7490904331207275\n"
     ]
    },
    {
     "data": {
      "application/vnd.jupyter.widget-view+json": {
       "model_id": "1543609f8ee34318838511911e8487ae",
       "version_major": 2,
       "version_minor": 0
      },
      "text/plain": [
       "HBox(children=(HTML(value=''), FloatProgress(value=0.0, max=50.0), HTML(value='')))"
      ]
     },
     "metadata": {},
     "output_type": "display_data"
    },
    {
     "name": "stdout",
     "output_type": "stream",
     "text": [
      "\n",
      "SNIPS Value:  0.07949547469615936\n",
      "SNIPS Loss:  0.9132755994796753\n",
      "==================================================\n",
      "\n",
      "\n",
      "\n",
      "Batch Size:  1024\n"
     ]
    },
    {
     "data": {
      "application/vnd.jupyter.widget-view+json": {
       "model_id": "03c162a5d9b5449880ac3d8e6a835501",
       "version_major": 2,
       "version_minor": 0
      },
      "text/plain": [
       "HBox(children=(HTML(value=''), FloatProgress(value=0.0, max=50.0), HTML(value='')))"
      ]
     },
     "metadata": {},
     "output_type": "display_data"
    },
    {
     "name": "stdout",
     "output_type": "stream",
     "text": [
      "\n",
      "BanditNet Value:  0.21061521768569946\n",
      "BanditNet Loss:  0.7350210547447205\n"
     ]
    },
    {
     "data": {
      "application/vnd.jupyter.widget-view+json": {
       "model_id": "b15de7d1d14a4a7daa8b8c47792f9f1c",
       "version_major": 2,
       "version_minor": 0
      },
      "text/plain": [
       "HBox(children=(HTML(value=''), FloatProgress(value=0.0, max=50.0), HTML(value='')))"
      ]
     },
     "metadata": {},
     "output_type": "display_data"
    },
    {
     "name": "stdout",
     "output_type": "stream",
     "text": [
      "\n",
      "SNIPS Value:  0.12964075803756714\n",
      "SNIPS Loss:  0.8366609215736389\n",
      "==================================================\n",
      "\n",
      "\n",
      "\n",
      "Batch Size:  2048\n"
     ]
    },
    {
     "data": {
      "application/vnd.jupyter.widget-view+json": {
       "model_id": "42b7fd8de991424d92786370b4d85be8",
       "version_major": 2,
       "version_minor": 0
      },
      "text/plain": [
       "HBox(children=(HTML(value=''), FloatProgress(value=0.0, max=50.0), HTML(value='')))"
      ]
     },
     "metadata": {},
     "output_type": "display_data"
    },
    {
     "name": "stdout",
     "output_type": "stream",
     "text": [
      "\n",
      "BanditNet Value:  0.1894395798444748\n",
      "BanditNet Loss:  0.7639780640602112\n"
     ]
    },
    {
     "data": {
      "application/vnd.jupyter.widget-view+json": {
       "model_id": "99c606a22ee7400eb8441be529c749e0",
       "version_major": 2,
       "version_minor": 0
      },
      "text/plain": [
       "HBox(children=(HTML(value=''), FloatProgress(value=0.0, max=50.0), HTML(value='')))"
      ]
     },
     "metadata": {},
     "output_type": "display_data"
    },
    {
     "name": "stdout",
     "output_type": "stream",
     "text": [
      "\n",
      "SNIPS Value:  0.10555371642112732\n",
      "SNIPS Loss:  0.8914798498153687\n",
      "==================================================\n",
      "\n",
      "\n",
      "\n",
      "Batch Size:  4096\n"
     ]
    },
    {
     "data": {
      "application/vnd.jupyter.widget-view+json": {
       "model_id": "bfe52380cd9c459cb4bbc8a8d831d4bd",
       "version_major": 2,
       "version_minor": 0
      },
      "text/plain": [
       "HBox(children=(HTML(value=''), FloatProgress(value=0.0, max=50.0), HTML(value='')))"
      ]
     },
     "metadata": {},
     "output_type": "display_data"
    },
    {
     "name": "stdout",
     "output_type": "stream",
     "text": [
      "\n",
      "BanditNet Value:  0.19890069961547852\n",
      "BanditNet Loss:  0.7532165050506592\n"
     ]
    },
    {
     "data": {
      "application/vnd.jupyter.widget-view+json": {
       "model_id": "6bba8c5ad3eb4c75b63a3fc14a6a17ed",
       "version_major": 2,
       "version_minor": 0
      },
      "text/plain": [
       "HBox(children=(HTML(value=''), FloatProgress(value=0.0, max=50.0), HTML(value='')))"
      ]
     },
     "metadata": {},
     "output_type": "display_data"
    },
    {
     "name": "stdout",
     "output_type": "stream",
     "text": [
      "\n",
      "SNIPS Value:  0.10635340213775635\n",
      "SNIPS Loss:  0.8741147518157959\n",
      "==================================================\n",
      "\n",
      "\n",
      "\n"
     ]
    }
   ],
   "source": [
    "batch_sizes = [64, 128, 256, 512, 1024, 2048, 4096]\n",
    "lr = 0.1\n",
    "n_epochs = 50\n",
    "model_dir = '../models/2/'\n",
    "\n",
    "X_test, y_test, full_rewards_test = test_dataset.tensors\n",
    "X_test = torch.FloatTensor(X_test).to(device)\n",
    "full_rewards_test = torch.FloatTensor(full_rewards_test).to(device)\n",
    "BN_values = []\n",
    "BN_losses = []\n",
    "SNIPS_values = []\n",
    "SNIPS_losses = []\n",
    "\n",
    "for batch_size in batch_sizes:\n",
    "    \n",
    "    print('Batch Size: ', batch_size)\n",
    "    \n",
    "    # get dataloaders\n",
    "    train_dataloader, test_dataloader = get_dataloaders(train_dataset, test_dataset, batch_size=64)\n",
    "    \n",
    "    #===========================\n",
    "    #   BanditNet\n",
    "    #===========================\n",
    "    loss_func = banditnet_loss\n",
    "    model_name = model_dir + f'{batch_size}-BanditNet'\n",
    "    \n",
    "    model = LogisticPolicy(num_actions=26, num_features=16)\n",
    "    model = model.to(device)\n",
    "    optimizer = torch.optim.SGD(model.parameters(), lr=lr)\n",
    "    BN_results = train_loop(model, optimizer, train_dataloader, test_dataloader, n_epochs=n_epochs, \n",
    "                            loss_func=loss_func, model_path=model_name)\n",
    "    \n",
    "    ## load best model\n",
    "    model = torch.load(f'{model_name}.pt')\n",
    "    model = model.to(device)\n",
    "    ## value\n",
    "    value = model.get_value_estimate(X_test, full_rewards_test).item()\n",
    "    \n",
    "    ## snips loss\n",
    "    pi_w = model.get_action_propensities(train_dataset.tensors[0].to(device), train_dataset.tensors[1].to(device))\n",
    "    r = get_rewards_vector(train_dataset.tensors[-1].to(device), train_dataset.tensors[1].to(device))\n",
    "    loss = snips_loss(pi_w, train_dataset.tensors[2].to(device), r).item()\n",
    "    \n",
    "    BN_values.append(value)\n",
    "    BN_losses.append(loss)\n",
    "    \n",
    "    print('BanditNet Value: ', value)\n",
    "    print('BanditNet Loss: ', loss)\n",
    "    \n",
    "    #===========================\n",
    "    #   SNIPS\n",
    "    #===========================\n",
    "    loss_func = snips_loss\n",
    "    model_name = model_dir + f'{batch_size}-SNIPS'\n",
    "    \n",
    "    model = LogisticPolicy(num_actions=26, num_features=16)\n",
    "    model = model.to(device)\n",
    "    optimizer = torch.optim.SGD(model.parameters(), lr=lr)\n",
    "    SNIPS_results = train_loop(model, optimizer, train_dataloader, test_dataloader, n_epochs=n_epochs, \n",
    "                               loss_func=loss_func, model_path=model_name)\n",
    "    \n",
    "    ## load best model\n",
    "    model = torch.load(f'{model_name}.pt')\n",
    "    model = model.to(device)\n",
    "    ## value\n",
    "    value = model.get_value_estimate(X_test, full_rewards_test).item()\n",
    "    \n",
    "    ## snips loss\n",
    "    pi_w = model.get_action_propensities(train_dataset.tensors[0].to(device), train_dataset.tensors[1].to(device))\n",
    "    r = get_rewards_vector(train_dataset.tensors[-1].to(device), train_dataset.tensors[1].to(device))\n",
    "    loss = snips_loss(pi_w, train_dataset.tensors[2].to(device), r).item()\n",
    "    \n",
    "    SNIPS_values.append(value)\n",
    "    SNIPS_losses.append(loss)\n",
    "    \n",
    "    print('SNIPS Value: ', value)\n",
    "    print('SNIPS Loss: ', loss)\n",
    "    print('='*50)\n",
    "    print('\\n\\n')\n",
    "\n",
    "    \n",
    "# Save results to a DataFrame\n",
    "results_df = pd.DataFrame({\n",
    "    'Batch_Size': batch_sizes,\n",
    "    'BanditNet_Value': BN_values,\n",
    "    'BanditNet_Loss': BN_losses,\n",
    "    'SNIPS_Value': SNIPS_values,\n",
    "    'SNIPS_Loss': SNIPS_losses\n",
    "}) "
   ]
  },
  {
   "cell_type": "code",
   "execution_count": 13,
   "metadata": {},
   "outputs": [
    {
     "data": {
      "text/html": [
       "<div>\n",
       "<style scoped>\n",
       "    .dataframe tbody tr th:only-of-type {\n",
       "        vertical-align: middle;\n",
       "    }\n",
       "\n",
       "    .dataframe tbody tr th {\n",
       "        vertical-align: top;\n",
       "    }\n",
       "\n",
       "    .dataframe thead th {\n",
       "        text-align: right;\n",
       "    }\n",
       "</style>\n",
       "<table border=\"1\" class=\"dataframe\">\n",
       "  <thead>\n",
       "    <tr style=\"text-align: right;\">\n",
       "      <th></th>\n",
       "      <th>Batch_Size</th>\n",
       "      <th>BanditNet_Value</th>\n",
       "      <th>BanditNet_Loss</th>\n",
       "      <th>SNIPS_Value</th>\n",
       "      <th>SNIPS_Loss</th>\n",
       "    </tr>\n",
       "  </thead>\n",
       "  <tbody>\n",
       "    <tr>\n",
       "      <th>0</th>\n",
       "      <td>64</td>\n",
       "      <td>0.217260</td>\n",
       "      <td>0.712435</td>\n",
       "      <td>0.107562</td>\n",
       "      <td>0.872243</td>\n",
       "    </tr>\n",
       "    <tr>\n",
       "      <th>1</th>\n",
       "      <td>128</td>\n",
       "      <td>0.109064</td>\n",
       "      <td>0.881160</td>\n",
       "      <td>0.118059</td>\n",
       "      <td>0.889604</td>\n",
       "    </tr>\n",
       "    <tr>\n",
       "      <th>2</th>\n",
       "      <td>256</td>\n",
       "      <td>0.105866</td>\n",
       "      <td>0.866616</td>\n",
       "      <td>0.141238</td>\n",
       "      <td>0.865629</td>\n",
       "    </tr>\n",
       "    <tr>\n",
       "      <th>3</th>\n",
       "      <td>512</td>\n",
       "      <td>0.190145</td>\n",
       "      <td>0.749090</td>\n",
       "      <td>0.079495</td>\n",
       "      <td>0.913276</td>\n",
       "    </tr>\n",
       "    <tr>\n",
       "      <th>4</th>\n",
       "      <td>1024</td>\n",
       "      <td>0.210615</td>\n",
       "      <td>0.735021</td>\n",
       "      <td>0.129641</td>\n",
       "      <td>0.836661</td>\n",
       "    </tr>\n",
       "    <tr>\n",
       "      <th>5</th>\n",
       "      <td>2048</td>\n",
       "      <td>0.189440</td>\n",
       "      <td>0.763978</td>\n",
       "      <td>0.105554</td>\n",
       "      <td>0.891480</td>\n",
       "    </tr>\n",
       "    <tr>\n",
       "      <th>6</th>\n",
       "      <td>4096</td>\n",
       "      <td>0.198901</td>\n",
       "      <td>0.753217</td>\n",
       "      <td>0.106353</td>\n",
       "      <td>0.874115</td>\n",
       "    </tr>\n",
       "  </tbody>\n",
       "</table>\n",
       "</div>"
      ],
      "text/plain": [
       "   Batch_Size  BanditNet_Value  BanditNet_Loss  SNIPS_Value  SNIPS_Loss\n",
       "0          64         0.217260        0.712435     0.107562    0.872243\n",
       "1         128         0.109064        0.881160     0.118059    0.889604\n",
       "2         256         0.105866        0.866616     0.141238    0.865629\n",
       "3         512         0.190145        0.749090     0.079495    0.913276\n",
       "4        1024         0.210615        0.735021     0.129641    0.836661\n",
       "5        2048         0.189440        0.763978     0.105554    0.891480\n",
       "6        4096         0.198901        0.753217     0.106353    0.874115"
      ]
     },
     "execution_count": 13,
     "metadata": {},
     "output_type": "execute_result"
    }
   ],
   "source": [
    "results_df"
   ]
  },
  {
   "cell_type": "code",
   "execution_count": 14,
   "metadata": {},
   "outputs": [],
   "source": [
    "results_df.to_csv('../models/2/results.csv', index=False)"
   ]
  },
  {
   "cell_type": "code",
   "execution_count": null,
   "metadata": {},
   "outputs": [],
   "source": []
  }
 ],
 "metadata": {
  "kernelspec": {
   "display_name": "Python 3",
   "language": "python",
   "name": "python3"
  },
  "language_info": {
   "codemirror_mode": {
    "name": "ipython",
    "version": 3
   },
   "file_extension": ".py",
   "mimetype": "text/x-python",
   "name": "python",
   "nbconvert_exporter": "python",
   "pygments_lexer": "ipython3",
   "version": "3.8.5"
  }
 },
 "nbformat": 4,
 "nbformat_minor": 4
}
